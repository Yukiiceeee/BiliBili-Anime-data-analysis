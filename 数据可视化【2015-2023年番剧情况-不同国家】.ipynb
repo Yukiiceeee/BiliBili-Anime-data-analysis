{
 "cells": [
  {
   "cell_type": "code",
   "execution_count": 1,
   "metadata": {},
   "outputs": [],
   "source": [
    "import pandas as pd\n",
    "# 呈现图表效果导包，引入相关配置文件\n",
    "from pyecharts.globals import CurrentConfig, NotebookType\n",
    "CurrentConfig.NOTEBOOK_TYPE = NotebookType.JUPYTER_LAB"
   ]
  },
  {
   "cell_type": "code",
   "execution_count": 2,
   "metadata": {},
   "outputs": [],
   "source": [
    "# 读取数据表格\n",
    "df1 = pd.read_excel('番剧数据-归一化后数据【2015-2023-不同地区】.xlsx')\n",
    "df2 = pd.read_excel('番剧数据-清洗后数据【2015-2023-不同地区】.xlsx')"
   ]
  },
  {
   "cell_type": "code",
   "execution_count": 3,
   "metadata": {},
   "outputs": [
    {
     "name": "stdout",
     "output_type": "stream",
     "text": [
      "受欢迎程度列中非零值的数量: 36\n",
      "受欢迎程度列的数据类型: float64\n",
      "受欢迎程度列中的最大值: 42112.2503800382\n",
      "生成的3D图表数据: [[0, 0, 13862.4186083044], [0, 1, 9616.8471290755], [0, 2, 19162.8861886694], [0, 3, 14178.3824316387], [1, 0, 14484.3187707692], [1, 1, 9901.45584878863], [1, 2, 17528.4733237675], [1, 3, 12241.2976123261], [2, 0, 15559.5835156878], [2, 1, 7422.91923837358], [2, 2, 22760.0089799053], [2, 3, 9104.92917080313], [3, 0, 12201.0975416983], [3, 1, 2295.04883822362], [3, 2, 20514.3858594078], [3, 3, 6180.24237236398], [4, 0, 16598.9878287224], [4, 1, 7820.72975124311], [4, 2, 23764.1975817209], [4, 3, 11789.386277852], [5, 0, 23025.9292591996], [5, 1, 7131.3315054298], [5, 2, 23492.1625702401], [5, 3, 9130.96087412402], [6, 0, 21591.6007495641], [6, 1, 5574.95986700186], [6, 2, 36508.4344884098], [6, 3, 6512.2534350387], [7, 0, 24412.8959500447], [7, 1, 8167.2678462855], [7, 2, 18745.671277622], [7, 3, 9387.20090768732], [8, 0, 42112.2503800382], [8, 1, 10624.8249994189], [8, 2, 16051.3369568155], [8, 3, 11168.6824748687]]\n"
     ]
    }
   ],
   "source": [
    "# 检查原始数据中的受欢迎程度是否有非零值\n",
    "print(\"受欢迎程度列中非零值的数量:\", df1[df1['受欢迎程度'] > 0]['受欢迎程度'].count())\n",
    "# 将受欢迎程度列转换为更大的数据类型\n",
    "# df1['受欢迎程度'] = df1['受欢迎程度'].astype('int64')\n",
    "\n",
    "# 检查数据转换后的情况\n",
    "print(\"受欢迎程度列的数据类型:\", df1['受欢迎程度'].dtype)\n",
    "print(\"受欢迎程度列中的最大值:\", df1['受欢迎程度'].max())\n",
    "\n",
    "# 数据处理：按年份和地区分组，计算每个分组的受欢迎程度总和\n",
    "grouped_data = df1.groupby(['年份', '地区'])['受欢迎程度'].sum().reset_index()\n",
    "\n",
    "# 准备3D图表所需的数据格式\n",
    "data = []\n",
    "years = sorted(grouped_data['年份'].unique().astype(str))  # 年份转换为字符串\n",
    "regions = sorted(grouped_data['地区'].unique())\n",
    "\n",
    "for year in years:\n",
    "    for region in regions:\n",
    "        # 受欢迎程度，如果该年份该地区没有数据，则使用0\n",
    "        play_count = grouped_data[(grouped_data['年份'] == int(year)) & (grouped_data['地区'] == region)]['受欢迎程度'].sum()\n",
    "        # 添加所有数据\n",
    "        data.append([years.index(year), regions.index(region), play_count])\n",
    "\n",
    "# 检查生成的数据\n",
    "print(\"生成的3D图表数据:\", data)\n"
   ]
  },
  {
   "cell_type": "code",
   "execution_count": 4,
   "metadata": {},
   "outputs": [
    {
     "data": {
      "text/plain": [
       "'c:\\\\Users\\\\86133\\\\Desktop\\\\Python小组项目——bilibili番剧数据统计与分析\\\\BiliBili-Anime-data-analysis\\\\各年份-地区番剧受欢迎程度信息3D图.html'"
      ]
     },
     "execution_count": 4,
     "metadata": {},
     "output_type": "execute_result"
    }
   ],
   "source": [
    "import pyecharts.options as opts\n",
    "from pyecharts.charts import Bar3D\n",
    "import numpy as np\n",
    "\n",
    "\"\"\"\n",
    "Gallery 使用 pyecharts 1.1.0\n",
    "参考地址: https://echarts.apache.org/examples/editor.html?c=bar3d-punch-card&gl=1\n",
    "\n",
    "目前无法实现的功能:\n",
    "\n",
    "1、光照和阴影暂时无法设置\n",
    "\"\"\"\n",
    "\n",
    "# 创建3D柱状图\n",
    "bar3d = Bar3D(init_opts=opts.InitOpts(width=\"2600px\", height=\"800px\"))\n",
    "bar3d.add(\n",
    "    series_name=\"受欢迎程度\",\n",
    "    data=data,\n",
    "    xaxis3d_opts=opts.Axis3DOpts(type_=\"category\", data=years, name=\"年份\"),\n",
    "    yaxis3d_opts=opts.Axis3DOpts(type_=\"category\", data=regions, name=\"地区\"),\n",
    "    zaxis3d_opts=opts.Axis3DOpts(type_=\"value\", name=\"受欢迎程度\"),\n",
    ")\n",
    "bar3d.set_global_opts(\n",
    "    visualmap_opts=opts.VisualMapOpts(max_=50000, range_color=[\n",
    "                \"#313695\",\n",
    "                \"#4575b4\",\n",
    "                \"#74add1\",\n",
    "                \"#abd9e9\",\n",
    "                \"#e0f3f8\",\n",
    "                \"#ffffbf\",\n",
    "                \"#fee090\",\n",
    "                \"#fdae61\",\n",
    "                \"#f46d43\",\n",
    "                \"#d73027\",\n",
    "                \"#a50026\",\n",
    "            ]),\n",
    "    title_opts=opts.TitleOpts(title=\"2015-2023年Bilibili番剧各地区受欢迎程度3D图\"),\n",
    ")\n",
    "# 保存图表为HTML文件\n",
    "bar3d.render('各年份-地区番剧受欢迎程度信息3D图.html')"
   ]
  },
  {
   "cell_type": "code",
   "execution_count": 5,
   "metadata": {},
   "outputs": [
    {
     "name": "stdout",
     "output_type": "stream",
     "text": [
      "播放量列中非零值的数量: 2292\n",
      "播放量列的数据类型: int64\n",
      "播放量列中的最大值: 2577538275\n",
      "生成的3D图表数据: [[0, 0, 7657872], [0, 1, 940979], [0, 2, 23254193], [0, 3, 1688965], [1, 0, 10452844], [1, 1, 1985775], [1, 2, 24243146], [1, 3, 339900], [2, 0, 22287901], [2, 1, 138663], [2, 2, 33139053], [2, 3, 381026], [3, 0, 39309757], [3, 1, 655407], [3, 2, 23123946], [3, 3, 336627], [4, 0, 25535900], [4, 1, 2821547], [4, 2, 31855357], [4, 3, 578847], [5, 0, 56858365], [5, 1, 348880], [5, 2, 25935437], [5, 3, 133672], [6, 0, 47914263], [6, 1, 934691], [6, 2, 30085279], [6, 3, 54631], [7, 0, 62800475], [7, 1, 1668722], [7, 2, 23133591], [7, 3, 721598], [8, 0, 82004932], [8, 1, 133609], [8, 2, 10605147], [8, 3, 299960]]\n"
     ]
    }
   ],
   "source": [
    "# 检查原始数据中的播放量是否有非零值\n",
    "print(\"播放量列中非零值的数量:\", df2[df2['播放量'] > 0]['播放量'].count())\n",
    "# 将受欢迎程度列转换为更大的数据类型\n",
    "df2['播放量'] = df2['播放量'].astype('int64')\n",
    "\n",
    "# 检查数据转换后的情况\n",
    "print(\"播放量列的数据类型:\", df2['播放量'].dtype)\n",
    "print(\"播放量列中的最大值:\", df2['播放量'].max())\n",
    "\n",
    "# 数据处理：按年份和地区分组，计算每个分组的受欢迎程度总和\n",
    "grouped_data = df2.groupby(['年份', '地区'])['播放量'].sum().reset_index()\n",
    "\n",
    "# 准备3D图表所需的数据格式\n",
    "data = []\n",
    "years = sorted(grouped_data['年份'].unique().astype(str))  # 年份转换为字符串\n",
    "regions = sorted(grouped_data['地区'].unique())\n",
    "\n",
    "for year in years:\n",
    "    for region in regions:\n",
    "        # 受欢迎程度，如果该年份该地区没有数据，则使用0\n",
    "        play_count = int(grouped_data[(grouped_data['年份'] == int(year)) & (grouped_data['地区'] == region)]['播放量'].sum()/100)\n",
    "        # 添加所有数据\n",
    "        data.append([years.index(year), regions.index(region), play_count])\n",
    "\n",
    "# 检查生成的数据\n",
    "print(\"生成的3D图表数据:\", data)"
   ]
  },
  {
   "cell_type": "code",
   "execution_count": 6,
   "metadata": {},
   "outputs": [
    {
     "data": {
      "text/plain": [
       "'c:\\\\Users\\\\86133\\\\Desktop\\\\Python小组项目——bilibili番剧数据统计与分析\\\\BiliBili-Anime-data-analysis\\\\各年份-地区番剧播放量信息3D图.html'"
      ]
     },
     "execution_count": 6,
     "metadata": {},
     "output_type": "execute_result"
    }
   ],
   "source": [
    "import pyecharts.options as opts\n",
    "from pyecharts.charts import Bar3D\n",
    "import numpy as np\n",
    "\n",
    "\"\"\"\n",
    "Gallery 使用 pyecharts 1.1.0\n",
    "参考地址: https://echarts.apache.org/examples/editor.html?c=bar3d-punch-card&gl=1\n",
    "\n",
    "目前无法实现的功能:\n",
    "\n",
    "1、光照和阴影暂时无法设置\n",
    "\"\"\"\n",
    "\n",
    "# 创建3D柱状图\n",
    "bar3d = Bar3D(init_opts=opts.InitOpts(width=\"1600px\", height=\"800px\"))\n",
    "bar3d.add(\n",
    "    series_name=\"播放量\",\n",
    "    data=data,\n",
    "    xaxis3d_opts=opts.Axis3DOpts(type_=\"category\", data=years, name=\"年份\"),\n",
    "    yaxis3d_opts=opts.Axis3DOpts(type_=\"category\", data=regions, name=\"地区\"),\n",
    "    zaxis3d_opts=opts.Axis3DOpts(type_=\"value\", name=\"播放量\"),\n",
    ")\n",
    "bar3d.set_global_opts(\n",
    "    visualmap_opts=opts.VisualMapOpts(max_=100000000, range_color=[\n",
    "                \"#313695\",\n",
    "                \"#4575b4\",\n",
    "                \"#74add1\",\n",
    "                \"#abd9e9\",\n",
    "                \"#e0f3f8\",\n",
    "                \"#ffffbf\",\n",
    "                \"#fee090\",\n",
    "                \"#fdae61\",\n",
    "                \"#f46d43\",\n",
    "                \"#d73027\",\n",
    "                \"#a50026\",\n",
    "            ]),\n",
    "    title_opts=opts.TitleOpts(title=\"2015-2023年Bilibili番剧各地区播放量3D图\"),\n",
    ")\n",
    "# 保存图表为HTML文件\n",
    "bar3d.render('各年份-地区番剧播放量信息3D图.html')"
   ]
  }
 ],
 "metadata": {
  "kernelspec": {
   "display_name": "Python 3",
   "language": "python",
   "name": "python3"
  },
  "language_info": {
   "codemirror_mode": {
    "name": "ipython",
    "version": 3
   },
   "file_extension": ".py",
   "mimetype": "text/x-python",
   "name": "python",
   "nbconvert_exporter": "python",
   "pygments_lexer": "ipython3",
   "version": "3.9.13"
  }
 },
 "nbformat": 4,
 "nbformat_minor": 2
}
