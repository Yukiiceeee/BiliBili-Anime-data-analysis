{
 "cells": [
  {
   "cell_type": "code",
   "execution_count": 28,
   "metadata": {},
   "outputs": [],
   "source": [
    "import pandas as pd\n",
    "# 呈现图表效果导包，引入相关配置文件\n",
    "from pyecharts.globals import CurrentConfig, NotebookType\n",
    "CurrentConfig.NOTEBOOK_TYPE = NotebookType.JUPYTER_LAB"
   ]
  },
  {
   "cell_type": "code",
   "execution_count": 29,
   "metadata": {},
   "outputs": [],
   "source": [
    "# 读取数据表格\n",
    "df = pd.read_excel('番剧数据-原始数据【2015-2023-不同地区】.xlsx')"
   ]
  },
  {
   "cell_type": "code",
   "execution_count": 30,
   "metadata": {},
   "outputs": [
    {
     "name": "stdout",
     "output_type": "stream",
     "text": [
      "播放量列中非零值的数量: 2559\n",
      "播放量列的数据类型: int64\n",
      "播放量列中的最大值: 4527472873\n",
      "生成的3D图表数据: [[0, 0, 1632087059], [0, 1, 126683800], [0, 2, 4181233116], [0, 3, 235229633], [1, 0, 1891228909], [1, 1, 213477046], [1, 2, 3740031498], [1, 3, 99121504], [2, 0, 2713073221], [2, 1, 20341175], [2, 2, 4733817846], [2, 3, 101870118], [3, 0, 4358948908], [3, 1, 80102925], [3, 2, 5764699177], [3, 3, 77523078], [4, 0, 3613207891], [4, 1, 291966435], [4, 2, 5721338497], [4, 3, 100590190], [5, 0, 10023056777], [5, 1, 35530682], [5, 2, 5452037481], [5, 3, 15858687], [6, 0, 11438487716], [6, 1, 113462996], [6, 2, 6107281919], [6, 3, 25486739], [7, 0, 10641853659], [7, 1, 174058771], [7, 2, 3926878693], [7, 3, 77002251], [8, 0, 27689805522], [8, 1, 17340799], [8, 2, 1750823519], [8, 3, 30213381]]\n"
     ]
    }
   ],
   "source": [
    "# 检查原始数据中的播放量是否有非零值\n",
    "print(\"播放量列中非零值的数量:\", df[df['播放量'] > 0]['播放量'].count())\n",
    "# 将播放量列转换为更大的数据类型\n",
    "df['播放量'] = df['播放量'].astype('int64')\n",
    "\n",
    "# 检查数据转换后的情况\n",
    "print(\"播放量列的数据类型:\", df['播放量'].dtype)\n",
    "print(\"播放量列中的最大值:\", df['播放量'].max())\n",
    "\n",
    "# 数据处理：按年份和地区分组，计算每个分组的播放量总和\n",
    "grouped_data = df.groupby(['年份', '地区'])['播放量'].sum().reset_index()\n",
    "\n",
    "# 准备3D图表所需的数据格式\n",
    "data = []\n",
    "years = sorted(grouped_data['年份'].unique().astype(str))  # 年份转换为字符串\n",
    "regions = sorted(grouped_data['地区'].unique())\n",
    "\n",
    "for year in years:\n",
    "    for region in regions:\n",
    "        # 播放量，如果该年份该地区没有数据，则使用0\n",
    "        play_count = grouped_data[(grouped_data['年份'] == int(year)) & (grouped_data['地区'] == region)]['播放量'].sum()\n",
    "        # 添加所有数据\n",
    "        data.append([years.index(year), regions.index(region), play_count])\n",
    "\n",
    "# 检查生成的数据\n",
    "print(\"生成的3D图表数据:\", data)\n"
   ]
  },
  {
   "cell_type": "code",
   "execution_count": 31,
   "metadata": {},
   "outputs": [
    {
     "data": {
      "text/plain": [
       "'c:\\\\Users\\\\86133\\\\Desktop\\\\Python小组项目——bilibili番剧数据统计与分析\\\\BiliBili-Anime-data-analysis\\\\年份-地区播放量3D图.html'"
      ]
     },
     "execution_count": 31,
     "metadata": {},
     "output_type": "execute_result"
    }
   ],
   "source": [
    "import pyecharts.options as opts\n",
    "from pyecharts.charts import Bar3D\n",
    "import numpy as np\n",
    "\n",
    "\"\"\"\n",
    "Gallery 使用 pyecharts 1.1.0\n",
    "参考地址: https://echarts.apache.org/examples/editor.html?c=bar3d-punch-card&gl=1\n",
    "\n",
    "目前无法实现的功能:\n",
    "\n",
    "1、光照和阴影暂时无法设置\n",
    "\"\"\"\n",
    "\n",
    "# 创建3D柱状图\n",
    "bar3d = Bar3D(init_opts=opts.InitOpts(width=\"1600px\", height=\"800px\"))\n",
    "bar3d.add(\n",
    "    series_name=\"播放量\",\n",
    "    data=data,\n",
    "    xaxis3d_opts=opts.Axis3DOpts(type_=\"category\", data=years, name=\"年份\"),\n",
    "    yaxis3d_opts=opts.Axis3DOpts(type_=\"category\", data=regions, name=\"地区\"),\n",
    "    zaxis3d_opts=opts.Axis3DOpts(type_=\"value\", name=\"播放量\"),\n",
    ")\n",
    "bar3d.set_global_opts(\n",
    "    visualmap_opts=opts.VisualMapOpts(max_=np.max([d[2] for d in data] or [0]), is_show=True),\n",
    "    title_opts=opts.TitleOpts(title=\"年份-地区播放量3D图\"),\n",
    ")\n",
    "# 保存图表为HTML文件\n",
    "bar3d.render('年份-地区播放量3D图.html')"
   ]
  }
 ],
 "metadata": {
  "kernelspec": {
   "display_name": "Python 3",
   "language": "python",
   "name": "python3"
  },
  "language_info": {
   "codemirror_mode": {
    "name": "ipython",
    "version": 3
   },
   "file_extension": ".py",
   "mimetype": "text/x-python",
   "name": "python",
   "nbconvert_exporter": "python",
   "pygments_lexer": "ipython3",
   "version": "3.9.13"
  }
 },
 "nbformat": 4,
 "nbformat_minor": 2
}
