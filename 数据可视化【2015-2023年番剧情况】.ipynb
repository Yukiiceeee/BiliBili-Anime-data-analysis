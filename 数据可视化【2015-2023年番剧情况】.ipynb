{
 "cells": [
  {
   "cell_type": "code",
   "execution_count": 13,
   "metadata": {},
   "outputs": [],
   "source": [
    "import pandas as pd\n",
    "# 呈现图表效果导包，引入相关配置文件\n",
    "from pyecharts.globals import CurrentConfig, NotebookType\n",
    "CurrentConfig.NOTEBOOK_TYPE = NotebookType.JUPYTER_LAB"
   ]
  },
  {
   "cell_type": "code",
   "execution_count": 14,
   "metadata": {},
   "outputs": [],
   "source": [
    "# 读取数据表格\n",
    "df1 = pd.read_excel('番剧数据-归一化后数据【2015-2023】（未分类）.xlsx')\n",
    "df2 = pd.read_excel('番剧数据-清洗后数据【2015-2023】.xlsx')"
   ]
  },
  {
   "cell_type": "code",
   "execution_count": 15,
   "metadata": {},
   "outputs": [],
   "source": [
    "# 划分数据\n",
    "total_popularity_by_year = df1.groupby('年份')['受欢迎程度'].sum()\n",
    "total_play_volume_by_year = df2.groupby('年份')['播放量'].sum()\n",
    "# 获取对应数据\n",
    "popularity_year_info = total_popularity_by_year.index.to_list()\n",
    "popularity_info = total_popularity_by_year.tolist()\n",
    "play_volume_year_info = total_play_volume_by_year.index.to_list()\n",
    "play_volume_info = total_play_volume_by_year.tolist()\n"
   ]
  },
  {
   "cell_type": "code",
   "execution_count": 16,
   "metadata": {},
   "outputs": [],
   "source": [
    "from pyecharts import options as opts\n",
    "from pyecharts.charts import Bar\n",
    "from pyecharts.faker import Faker\n",
    "\n",
    "c = (\n",
    "    Bar()\n",
    "    .add_xaxis(popularity_year_info)\n",
    "    .add_yaxis(\"受欢迎程度\", popularity_info)\n",
    "    .set_global_opts(\n",
    "        title_opts=opts.TitleOpts(title=\"2015-2023年Bilibili番剧受欢迎程度\"),\n",
    "        datazoom_opts=opts.DataZoomOpts(),\n",
    "    )\n",
    "    .render(\"各年份番剧受欢迎程度信息柱状图.html\")\n",
    ")"
   ]
  },
  {
   "cell_type": "code",
   "execution_count": null,
   "metadata": {},
   "outputs": [],
   "source": [
    "from pyecharts import options as opts\n",
    "from pyecharts.charts import Bar\n",
    "from pyecharts.faker import Faker\n",
    "\n",
    "c = (\n",
    "    Bar()\n",
    "    .add_xaxis(play_volume_year_info)\n",
    "    .add_yaxis(\"播放量\", play_volume_info)\n",
    "    .set_global_opts(\n",
    "        title_opts=opts.TitleOpts(title=\"2015-2023年Bilibili番剧播放量\"),\n",
    "        datazoom_opts=opts.DataZoomOpts(),\n",
    "    )\n",
    "    .render(\"各年份番剧播放量信息柱状图.html\")\n",
    ")"
   ]
  }
 ],
 "metadata": {
  "kernelspec": {
   "display_name": "Python 3",
   "language": "python",
   "name": "python3"
  },
  "language_info": {
   "codemirror_mode": {
    "name": "ipython",
    "version": 3
   },
   "file_extension": ".py",
   "mimetype": "text/x-python",
   "name": "python",
   "nbconvert_exporter": "python",
   "pygments_lexer": "ipython3",
   "version": "3.9.13"
  }
 },
 "nbformat": 4,
 "nbformat_minor": 2
}
