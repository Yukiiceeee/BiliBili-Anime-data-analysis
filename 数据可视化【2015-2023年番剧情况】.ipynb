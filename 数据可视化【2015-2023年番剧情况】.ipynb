{
 "cells": [
  {
   "cell_type": "code",
   "execution_count": 47,
   "metadata": {},
   "outputs": [],
   "source": [
    "import pandas as pd\n",
    "# 呈现图表效果导包，引入相关配置文件\n",
    "from pyecharts.globals import CurrentConfig, NotebookType\n",
    "CurrentConfig.NOTEBOOK_TYPE = NotebookType.JUPYTER_LAB"
   ]
  },
  {
   "cell_type": "code",
   "execution_count": 48,
   "metadata": {},
   "outputs": [],
   "source": [
    "# 读取数据表格\n",
    "df1 = pd.read_excel('番剧数据-归一化后数据【2015-2023】（未分类）.xlsx')\n",
    "df2 = pd.read_excel('番剧数据-清洗后数据【2015-2023】.xlsx')\n",
    "df3 = pd.read_excel('番剧数据-归一化后数据【2015-2023】（无受欢迎程度，有分类）.xlsx')"
   ]
  },
  {
   "cell_type": "code",
   "execution_count": 49,
   "metadata": {},
   "outputs": [],
   "source": [
    "# 划分数据\n",
    "total_popularity_by_year = df1.groupby('年份')['受欢迎程度'].sum()\n",
    "total_play_volume_by_year = df2.groupby('年份')['播放量'].sum()\n",
    "# 获取对应数据\n",
    "popularity_year_info = total_popularity_by_year.index.to_list()\n",
    "popularity_info = total_popularity_by_year.tolist()\n",
    "play_volume_year_info = total_play_volume_by_year.index.to_list()\n",
    "play_volume_info = total_play_volume_by_year.tolist()\n"
   ]
  },
  {
   "cell_type": "code",
   "execution_count": 50,
   "metadata": {},
   "outputs": [],
   "source": [
    "from pyecharts import options as opts\n",
    "from pyecharts.charts import Bar\n",
    "from pyecharts.faker import Faker\n",
    "\n",
    "c = (\n",
    "    Bar()\n",
    "    .add_xaxis(popularity_year_info)\n",
    "    .add_yaxis(\"受欢迎程度\", popularity_info)\n",
    "    .set_global_opts(\n",
    "        title_opts=opts.TitleOpts(title=\"2015-2023年Bilibili番剧受欢迎程度\"),\n",
    "        datazoom_opts=opts.DataZoomOpts(),\n",
    "    )\n",
    "    .render(\"各年份番剧受欢迎程度信息柱状图.html\")\n",
    ")"
   ]
  },
  {
   "cell_type": "code",
   "execution_count": 51,
   "metadata": {},
   "outputs": [],
   "source": [
    "from pyecharts import options as opts\n",
    "from pyecharts.charts import Bar\n",
    "from pyecharts.faker import Faker\n",
    "\n",
    "c = (\n",
    "    Bar()\n",
    "    .add_xaxis(play_volume_year_info)\n",
    "    .add_yaxis(\"播放量\", play_volume_info)\n",
    "    .set_global_opts(\n",
    "        title_opts=opts.TitleOpts(title=\"2015-2023年Bilibili番剧播放量\"),\n",
    "        datazoom_opts=opts.DataZoomOpts(),\n",
    "    )\n",
    "    .render(\"各年份番剧播放量信息柱状图.html\")\n",
    ")"
   ]
  },
  {
   "cell_type": "code",
   "execution_count": 52,
   "metadata": {},
   "outputs": [
    {
     "name": "stdout",
     "output_type": "stream",
     "text": [
      "受欢迎程度列中非零值的数量: 45\n",
      "受欢迎程度列的数据类型: float64\n",
      "受欢迎程度列中的最大值: 566.360085139978\n",
      "生成的3D图表数据: [[0, 0, 2450.00630120365], [0, 1, 4871.620552588591], [0, 2, 1037.97352181535], [0, 3, 1279.84079403316], [0, 4, 2342.5857012655397], [1, 0, 2564.53064171989], [1, 1, 2570.1387805191303], [1, 2, 1259.3612853797802], [1, 3, 1838.6961112326799], [1, 4, 2338.17188963107], [2, 0, 2516.70145545181], [2, 1, 4392.269211349279], [2, 2, 1721.6125389711399], [2, 3, 2149.09600384192], [2, 4, 3788.1090979520504], [3, 0, 810.541785832405], [3, 1, 4900.81903109818], [3, 2, 3291.6798200736002], [3, 3, 1751.76594346826], [3, 4, 3262.64015562956], [4, 0, 3440.74155572238], [4, 1, 4627.85757929885], [4, 2, 2963.05628083305], [4, 3, 1783.09568068561], [4, 4, 1441.14772450087], [5, 0, 4940.453232], [5, 1, 3454.12628856754], [5, 2, 3347.0586793951998], [5, 3, 1803.25134584251], [5, 4, 1365.1577173637302], [6, 0, 2126.52839474564], [6, 1, 5663.6008513997795], [6, 2, 2853.84344789427], [6, 3, 1352.6983477714898], [6, 4, 2616.78952484215], [7, 0, 2221.32559698977], [7, 1, 4877.17963364245], [7, 2, 1732.82695674391], [7, 3, 1336.58503451805], [7, 4, 1116.36516641231], [8, 0, 1067.48002697099], [8, 1, 1564.39089382664], [8, 2, 1139.80032241352], [8, 3, 2203.67323121989], [8, 4, 1543.78913826956]]\n"
     ]
    }
   ],
   "source": [
    "# 检查原始数据中的受欢迎程度是否有非零值\n",
    "print(\"受欢迎程度列中非零值的数量:\", df3[df3['受欢迎程度'] > 0]['受欢迎程度'].count())\n",
    "# 将受欢迎程度列转换为更大的数据类型\n",
    "# df3['受欢迎程度'] = df3['受欢迎程度'].astype('int64')\n",
    "\n",
    "# 检查数据转换后的情况\n",
    "print(\"受欢迎程度列的数据类型:\", df3['受欢迎程度'].dtype)\n",
    "print(\"受欢迎程度列中的最大值:\", df3['受欢迎程度'].max())\n",
    "\n",
    "# 数据处理：按年份和地区分组，计算每个分组的受欢迎程度总和\n",
    "grouped_data = df3.groupby(['年份', '类别'])['受欢迎程度'].sum().reset_index()\n",
    "\n",
    "# 准备3D图表所需的数据格式\n",
    "data = []\n",
    "years = sorted(grouped_data['年份'].unique().astype(str))  # 年份转换为字符串\n",
    "regions = sorted(grouped_data['类别'].unique())\n",
    "\n",
    "for year in years:\n",
    "    for region in regions:\n",
    "        # 受欢迎程度，如果该年份该地区没有数据，则使用0\n",
    "        play_count = grouped_data[(grouped_data['年份'] == int(year)) & (grouped_data['类别'] == region)]['受欢迎程度'].sum()*10\n",
    "        # 添加所有数据\n",
    "        data.append([years.index(year), regions.index(region), play_count])\n",
    "\n",
    "# 检查生成的数据\n",
    "print(\"生成的3D图表数据:\", data)\n"
   ]
  },
  {
   "cell_type": "code",
   "execution_count": 53,
   "metadata": {},
   "outputs": [
    {
     "data": {
      "text/plain": [
       "'c:\\\\Users\\\\86133\\\\Desktop\\\\Python小组项目——bilibili番剧数据统计与分析\\\\BiliBili-Anime-data-analysis\\\\各年份-类别番剧受欢迎程度信息3D图.html'"
      ]
     },
     "execution_count": 53,
     "metadata": {},
     "output_type": "execute_result"
    }
   ],
   "source": [
    "import pyecharts.options as opts\n",
    "from pyecharts.charts import Bar3D\n",
    "import numpy as np\n",
    "\n",
    "\"\"\"\n",
    "Gallery 使用 pyecharts 1.1.0\n",
    "参考地址: https://echarts.apache.org/examples/editor.html?c=bar3d-punch-card&gl=1\n",
    "\n",
    "目前无法实现的功能:\n",
    "\n",
    "1、光照和阴影暂时无法设置\n",
    "\"\"\"\n",
    "\n",
    "# 创建3D柱状图\n",
    "bar3d = Bar3D(init_opts=opts.InitOpts(width=\"1600px\", height=\"800px\"))\n",
    "bar3d.add(\n",
    "    series_name=\"受欢迎程度\",\n",
    "    data=data,\n",
    "    xaxis3d_opts=opts.Axis3DOpts(type_=\"category\", data=years, name=\"年份\"),\n",
    "    yaxis3d_opts=opts.Axis3DOpts(type_=\"category\", data=regions, name=\"类别\"),\n",
    "    zaxis3d_opts=opts.Axis3DOpts(type_=\"value\", name=\"受欢迎程度\"),\n",
    ")\n",
    "bar3d.set_global_opts(\n",
    "    visualmap_opts=opts.VisualMapOpts(max_=6000),\n",
    "    title_opts=opts.TitleOpts(title=\"2015-2023年Bilibili番剧各类别受欢迎程度\"),\n",
    ")\n",
    "# 保存图表为HTML文件\n",
    "bar3d.render('各年份-类别番剧受欢迎程度信息3D图.html')"
   ]
  }
 ],
 "metadata": {
  "kernelspec": {
   "display_name": "Python 3",
   "language": "python",
   "name": "python3"
  },
  "language_info": {
   "codemirror_mode": {
    "name": "ipython",
    "version": 3
   },
   "file_extension": ".py",
   "mimetype": "text/x-python",
   "name": "python",
   "nbconvert_exporter": "python",
   "pygments_lexer": "ipython3",
   "version": "3.9.13"
  }
 },
 "nbformat": 4,
 "nbformat_minor": 2
}
